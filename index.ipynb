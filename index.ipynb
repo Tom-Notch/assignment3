{
 "cells": [
  {
   "cell_type": "markdown",
   "metadata": {},
   "source": [
    "# Assignment 3: Neural Volume Rendering and Surface Rendering\n",
    "\n",
    "Author: [Mukai (Tom Notch) Yu](https://tomnotch.com)\n",
    "\n",
    "Email: [mukaiy@andrew.cmu.edu](mailto:mukaiy@andrew.cmu.edu)"
   ]
  },
  {
   "cell_type": "markdown",
   "metadata": {},
   "source": [
    "## A. Neural Volume Rendering (80 points)"
   ]
  },
  {
   "cell_type": "markdown",
   "metadata": {},
   "source": [
    "### 0. Transmittance Calculation (10 points)"
   ]
  },
  {
   "cell_type": "markdown",
   "metadata": {},
   "source": [
    "According to **slide L09\\_Volume\\_Rendering Page 42**:\n",
    "\\begin{align*}\n",
    "    T(x, y) & = e^{-\\sigma \\|x - y\\|} \\\\\n",
    "    T(x, y) & = T(x, z) \\cdot T(z, y)\n",
    "\\end{align*}\n",
    "Thus everything's solved.\n",
    "\\begin{align*}\n",
    "    T(y_1, y_2) & = e^{-\\sigma_1 \\| y_1 - y_2 \\|} = e^{-1 \\times 2} = e^{-2}                                                                 \\\\\n",
    "    T(y_2, y_4) & = e^{-\\sigma_2 \\| y_2 - y_3 \\|} \\cdot e^{-\\sigma_3 \\| y_3 - y_4 \\|} = e^{-0.5 \\times 1} \\cdot e^{-10 \\times 3} = e^{-30.5} \\\\\n",
    "    T(x, y_4)   & = T(x, y_1) \\cdot T(y_1, y_2) \\cdot T(y_2, y_4) = 1 \\times e^{-2} \\times e^{-30.5} = e^{-32.5}                             \\\\\n",
    "    T(x, y_3)   & = T(x, y_1) \\cdot T(y_1, y_2) \\cdot T(y_2, y_3) = 1 \\times e^{-2} \\times e^{-0.5} = e^{-2.5}\n",
    "\\end{align*}\n",
    "Probably hitting an object between $y_3$ an $y_4$."
   ]
  },
  {
   "cell_type": "markdown",
   "metadata": {},
   "source": [
    "### 1. Differentiable Volume Rendering"
   ]
  },
  {
   "cell_type": "markdown",
   "metadata": {},
   "source": [
    "#### 1.3. Ray sampling (5 points)"
   ]
  },
  {
   "cell_type": "markdown",
   "metadata": {},
   "source": [
    "![grid](images/xy_grid.png)\n",
    "![rays](images/rays.png)"
   ]
  },
  {
   "cell_type": "markdown",
   "metadata": {},
   "source": [
    "#### 1.4. Point sampling (5 points)"
   ]
  },
  {
   "cell_type": "markdown",
   "metadata": {},
   "source": [
    "![sampling](images/point_sampling.png)"
   ]
  },
  {
   "cell_type": "markdown",
   "metadata": {},
   "source": [
    "#### 1.5. Volume rendering (20 points)"
   ]
  },
  {
   "cell_type": "markdown",
   "metadata": {},
   "source": [
    "![part_1](images/part_1.gif)\n",
    "![depth](images/depth.png)"
   ]
  },
  {
   "cell_type": "markdown",
   "metadata": {},
   "source": [
    "### 2. Optimizing a basic implicit volume"
   ]
  },
  {
   "cell_type": "markdown",
   "metadata": {},
   "source": [
    "#### 2.1. Random ray sampling (5 points)"
   ]
  },
  {
   "cell_type": "markdown",
   "metadata": {},
   "source": [
    "```python\n",
    "def get_random_pixels_from_image(n_pixels, image_size, camera):\n",
    "    xy_grid = get_pixels_from_image(image_size, camera)\n",
    "\n",
    "    # TODO (Q2.1): Random subsampling of pixel coordinaters\n",
    "    xy_grid_flat = xy_grid.reshape(-1, 2)\n",
    "    indices = torch.randperm(xy_grid_flat.shape[0])\n",
    "    xy_grid_sub = xy_grid_flat[indices]\n",
    "\n",
    "    # Return\n",
    "    return xy_grid_sub.reshape(-1, 2)[:n_pixels]\n",
    "```"
   ]
  },
  {
   "cell_type": "markdown",
   "metadata": {},
   "source": [
    "#### 2.2. Loss and training (5 points)"
   ]
  },
  {
   "cell_type": "markdown",
   "metadata": {},
   "source": [
    "Box center: (0.2502334713935852, 0.25057852268218994, -0.0004771414096467197)\n",
    "\n",
    "Box side lengths: (2.005112409591675, 1.5035951137542725, 1.503396987915039)"
   ]
  },
  {
   "cell_type": "markdown",
   "metadata": {},
   "source": [
    "#### 2.3. Visualization"
   ]
  },
  {
   "cell_type": "markdown",
   "metadata": {},
   "source": [
    "![part_2](images/part_2.gif)\n",
    "\n",
    "I see no difference."
   ]
  },
  {
   "cell_type": "markdown",
   "metadata": {},
   "source": [
    "### 3. Optimizing a Neural Radiance Field (NeRF) (20 points)"
   ]
  },
  {
   "cell_type": "markdown",
   "metadata": {},
   "source": [
    "![part_3_no_view_dependence](images/part_3_no_view_dependence.gif)"
   ]
  },
  {
   "cell_type": "markdown",
   "metadata": {},
   "source": [
    "### 4. NeRF Extras"
   ]
  },
  {
   "cell_type": "markdown",
   "metadata": {},
   "source": [
    "#### 4.1 View Dependence (10 points)"
   ]
  },
  {
   "cell_type": "markdown",
   "metadata": {},
   "source": [
    "We had to incorporate noise in our training? which is not mentioned in class? Looks like some hacky solution, heuristics go over theory again? ..."
   ]
  },
  {
   "cell_type": "markdown",
   "metadata": {},
   "source": [
    "![part_3_view_dependent](images/part_3_view_dependent.gif)\n",
    "\n",
    "No difference when the resolution is low."
   ]
  },
  {
   "cell_type": "markdown",
   "metadata": {},
   "source": [
    "![high_res](images/part_3_high_res.gif)\n",
    "\n",
    "OK, I must say there is something in NeRF."
   ]
  },
  {
   "cell_type": "markdown",
   "metadata": {},
   "source": [
    "## B. Neural Surface Rendering (50 points)"
   ]
  },
  {
   "cell_type": "markdown",
   "metadata": {},
   "source": [
    "### 5. Sphere Tracing (10 points)"
   ]
  },
  {
   "cell_type": "markdown",
   "metadata": {},
   "source": [
    "![part_5](images/part_5.gif)"
   ]
  },
  {
   "cell_type": "markdown",
   "metadata": {},
   "source": [
    "### 6. Optimizing a Neural SDF (15 points)"
   ]
  },
  {
   "cell_type": "markdown",
   "metadata": {},
   "source": [
    "![input](images/part_6_input.gif)\n",
    "![part_6](images/part_6.gif)"
   ]
  },
  {
   "cell_type": "markdown",
   "metadata": {},
   "source": [
    "### 7. VolSDF (15 points)"
   ]
  },
  {
   "cell_type": "markdown",
   "metadata": {},
   "source": [
    "![part_7_geometry](images/part_7_geometry_10_0.05.gif)\n",
    "![part_7](images/part_7_10_0.05.gif)\n",
    "\n",
    "$\\alpha = 10, \\beta = 0.05$"
   ]
  },
  {
   "cell_type": "markdown",
   "metadata": {},
   "source": [
    "![part_7_geometry](images/part_7_geometry_10_0.5.gif)\n",
    "![part_7](images/part_7_10_0.5.gif)\n",
    "\n",
    "$\\alpha = 10, \\beta = 0.5$"
   ]
  },
  {
   "cell_type": "markdown",
   "metadata": {},
   "source": [
    "![part_7](images/part_7_10_1.gif)\n",
    "\n",
    "$\\alpha = 10, \\beta = 1$"
   ]
  },
  {
   "cell_type": "markdown",
   "metadata": {},
   "source": [
    "Well, $\\beta$ controls the sharpness of density change across the boundary of an object when the underlying implicit geometry function is SDF.\n",
    "\n",
    "High $\\beta$ makes the density change more abruptly, which matches the expected density at surface/boundary, and is more likely to lead to accurate geometry."
   ]
  },
  {
   "cell_type": "markdown",
   "metadata": {},
   "source": [
    "### 8. Neural Surface Extras"
   ]
  },
  {
   "cell_type": "markdown",
   "metadata": {},
   "source": [
    "#### 8.2 Fewer Training Views (10 points)"
   ]
  },
  {
   "cell_type": "markdown",
   "metadata": {},
   "source": [
    "![less_view_surface](images/part_7_geometry_less_view_0.2.gif)\n",
    "![less_view_appearance](images/part_7_less_view_0.2.gif)\n",
    "\n",
    "Neural Surface with 20\\% training views."
   ]
  },
  {
   "cell_type": "markdown",
   "metadata": {},
   "source": [
    "![nerf_less_view](images/part_3_less_vew_0.2.gif)\n",
    "\n",
    "NeRF with 20]% training views."
   ]
  },
  {
   "cell_type": "markdown",
   "metadata": {},
   "source": [
    "Of course they are more \"hollow\"."
   ]
  }
 ],
 "metadata": {
  "language_info": {
   "name": "python"
  }
 },
 "nbformat": 4,
 "nbformat_minor": 2
}
